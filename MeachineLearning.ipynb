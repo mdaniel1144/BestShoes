{
 "cells": [
  {
   "cell_type": "markdown",
   "id": "d45edb6a",
   "metadata": {},
   "source": [
    "# Imoprt"
   ]
  },
  {
   "cell_type": "code",
   "execution_count": 1,
   "id": "3d3714e5",
   "metadata": {},
   "outputs": [],
   "source": [
    "import pandas as pd\n",
    "import matplotlib.pyplot as plt\n",
    "import seaborn as sns\n",
    "import numpy as np\n",
    "from dython.nominal import associations\n",
    "import sklearn\n",
    "from sklearn import linear_model, metrics, preprocessing\n",
    "from sklearn.preprocessing import StandardScaler, MinMaxScaler\n",
    "from sklearn.linear_model import LogisticRegression, LinearRegression\n",
    "from sklearn.metrics import r2_score, f1_score\n",
    "import category_encoders as ce"
   ]
  },
  {
   "cell_type": "code",
   "execution_count": 2,
   "id": "d399174c",
   "metadata": {},
   "outputs": [],
   "source": [
    "def LoadDataFrame(path):\n",
    "    df = pd.read_csv(path)\n",
    "    return df"
   ]
  },
  {
   "cell_type": "code",
   "execution_count": 3,
   "id": "395ed663",
   "metadata": {},
   "outputs": [],
   "source": [
    "def CreatDataFrame(data):\n",
    "    df = pd.DataFrame(Data)\n",
    "    return df"
   ]
  },
  {
   "cell_type": "code",
   "execution_count": 4,
   "id": "379db38f",
   "metadata": {},
   "outputs": [],
   "source": [
    "path = \"./CSV_Document/AsosDataOptimize/AsosDataOptimize.csv\"\n",
    "df = LoadDataFrame(path)\n",
    "df.drop(columns=\"Unnamed: 0\",inplace=True)"
   ]
  },
  {
   "cell_type": "markdown",
   "id": "e99c7f2d",
   "metadata": {},
   "source": [
    "# The Relationship between Columns"
   ]
  },
  {
   "cell_type": "code",
   "execution_count": null,
   "id": "d7928ace",
   "metadata": {},
   "outputs": [],
   "source": [
    "ax = associations(df, figsize = (15, 15), cmap='RdYlGn', mark_columns = True, clustering=True)\n",
    "plt.show()"
   ]
  },
  {
   "cell_type": "markdown",
   "id": "aeaf4fa7",
   "metadata": {},
   "source": [
    "# Create Relationship Between Category Colums"
   ]
  },
  {
   "cell_type": "code",
   "execution_count": null,
   "id": "0aaa7cf8",
   "metadata": {},
   "outputs": [],
   "source": [
    "def ConvertCategory(df, Column):\n",
    "    df_Temp = df.copy()\n",
    "    BestColumn = []\n",
    "    uniqueColumn = df_Temp[Column].unique()\n",
    "    for x in uniqueColumn:\n",
    "        Column_Dic = {\"Name\": -1 , \"Count\": -1 , \"Price\": -1}\n",
    "        Column_Dic[\"Name\"] = x\n",
    "        Column_Dic[\"Count\"] = df_Temp[Column].value_counts()[x]\n",
    "        BestColumn.append(Column_Dic)\n",
    "    BestColumn = sorted(BestColumn, key=lambda x: x['Count'],reverse=True)\n",
    "    count=1\n",
    "    for x in BestColumn:\n",
    "        for row in range(df.shape[0]):\n",
    "            if df_Temp.loc[row,Column] == x[\"Name\"]:\n",
    "                df_Temp.loc[row,Column] = count\n",
    "        count+=1\n",
    "    return df_Temp"
   ]
  },
  {
   "cell_type": "code",
   "execution_count": null,
   "id": "a713fd94",
   "metadata": {},
   "outputs": [],
   "source": [
    "df1 = ConvertCategory(df ,\"Upper\")\n",
    "df1 = ConvertCategory(df1 ,\"Brand\")\n",
    "df1 = ConvertCategory(df1 ,\"Color\")\n",
    "df1 = ConvertCategory(df1 ,\"Type\")\n",
    "df1 = ConvertCategory(df1 ,\"Gender\")\n",
    "df1 = ConvertCategory(df1 ,\"Sole\")"
   ]
  },
  {
   "cell_type": "markdown",
   "id": "4efba67a",
   "metadata": {},
   "source": [
    "# Method MeachineLearning"
   ]
  },
  {
   "cell_type": "code",
   "execution_count": null,
   "id": "10d8392f",
   "metadata": {},
   "outputs": [],
   "source": [
    "from sklearn.model_selection import train_test_split\n",
    "def MeachineLearning(df,label,features,IsEncoder):\n",
    "\n",
    "    X = df[features]\n",
    "    y = df[label]\n",
    "\n",
    "    df_copy = df.copy()\n",
    "    #--->Encoder The Category values\n",
    "    if IsEncoder:\n",
    "        encoder= ce.BinaryEncoder(cols = features ,return_df = True)\n",
    "        X = encoder.fit_transform(df_copy[features])\n",
    "        print(\"-->Learning By: \"+str(features))\n",
    "    \n",
    "    X_train, X_test, y_train, y_test = train_test_split(X, y, test_size=0.2, random_state=42)\n",
    "    \n",
    "    if IsEncoder:\n",
    "    #--->The Split Table to Train and Tests\n",
    "        print(\"\\n-->Initial amount of samples: #{}\".format(X.shape[0]))\n",
    "        print(\"   Number of training samples: #{}\".format(X_train.shape[0]))\n",
    "        print(\"   Number of test samples: #{}\".format(X_test.shape[0]))\n",
    "\n",
    "    #--->Fit Method\n",
    "    from sklearn.linear_model import LinearRegression\n",
    "    model = LinearRegression()\n",
    "    model.fit(X_train, y_train)\n",
    "    \n",
    "    return model , X , X_test, y_test"
   ]
  },
  {
   "cell_type": "code",
   "execution_count": null,
   "id": "b1da7093",
   "metadata": {},
   "outputs": [],
   "source": [
    "#--->Describe output for model\n",
    "def DescribeModel(model, X_test, y_test):\n",
    "    from sklearn.metrics import confusion_matrix, classification_report, mean_absolute_error, r2_score\n",
    "    print(\"\\n--->Predicting\")\n",
    "    print(\"\\tDisplaying information re:\")\n",
    "    y_pred = model.predict(X_test)\n",
    "   \n",
    "    print(\"\\t1. RMAE: \", mean_absolute_error(y_true=y_test, y_pred=y_pred)) #the lower the value the better \n",
    "    print(\"\\t2. R^2 : \", r2_score(y_test, y_pred)) # closer to 1 but not 1, the better\n",
    "        \n",
    "    coef = list(sorted(zip(np.arange(X_test.shape[1]), abs(model.coef_)),key=lambda x: x[1]))\n",
    "    coef_table = pd.DataFrame(np.array(coef).reshape(-1,2),columns=['Attributes','Coefficient'])\n",
    "    print('\\nCoefficient for every feature:\\n')\n",
    "    print(coef_table)"
   ]
  },
  {
   "cell_type": "code",
   "execution_count": null,
   "id": "a407e96e",
   "metadata": {},
   "outputs": [],
   "source": [
    "model , X  , X_test, y_test= MeachineLearning(df1 ,label = 'Price',features = [\"Brand\"] , IsEncoder=False)\n",
    "model1  , X1 , X_test1, y_test1 = MeachineLearning(df1 ,label = 'Price',features = [\"Type\"] , IsEncoder=False)\n",
    "model2  , X2  , X_test2, y_test2 = MeachineLearning(df1 ,label = 'Price',features = [\"Details\"] , IsEncoder=False)\n",
    "model3  , X3  , X_test3 , y_test3 = MeachineLearning(df1 ,label = 'Price',features = [\"Color\"] , IsEncoder=False)"
   ]
  },
  {
   "cell_type": "markdown",
   "id": "4186bb22",
   "metadata": {},
   "source": [
    "# EDA MeachineLearning"
   ]
  },
  {
   "cell_type": "code",
   "execution_count": null,
   "id": "e4c2818b",
   "metadata": {},
   "outputs": [],
   "source": [
    "plt.scatter(x=df1[\"Type\"] ,y=df1[\"Price\"] , c='b' , marker='o' ,label='Type')\n",
    "plt.scatter(x=df1[\"Color\"] ,y=df1[\"Price\"] , c='pink' , marker='+' ,label='Color')\n",
    "plt.scatter(x=df1[\"Brand\"] ,y=df1[\"Price\"] , c='r' , marker='x' ,label='Brand')\n",
    "plt.scatter(x=df1[\"Details\"] ,y=df1[\"Price\"] , c='gold' , marker='x' ,label='Details')\n",
    "plt.plot(X ,model.predict(X), 'k' , color=\"black\" , linewidth=1)\n",
    "plt.plot(X1 ,model1.predict(X1), 'k' , color=\"black\" , linewidth=1)\n",
    "plt.plot(X2 ,model2.predict(X2), 'k' , color=\"black\" , linewidth=1)\n",
    "plt.plot(X3 ,model3.predict(X3), 'k' , color=\"black\" , linewidth=1)\n",
    "plt.legend(numpoints=1 , loc=4)\n",
    "plt.xlabel(\"Numer Category\")\n",
    "plt.ylabel(\"Price\")\n",
    "plt.show()"
   ]
  },
  {
   "cell_type": "markdown",
   "id": "113522a2",
   "metadata": {},
   "source": [
    "# Option I"
   ]
  },
  {
   "cell_type": "code",
   "execution_count": null,
   "id": "56c7f5bd",
   "metadata": {},
   "outputs": [],
   "source": [
    "modelTop  , XTop  , X_testTop, y_testTop = MeachineLearning(df ,label = 'Price',features = [\"Brand\",\"Details\",\"Type\",\"Color\"],IsEncoder=True)\n",
    "DescribeModel(modelTop ,X_testTop, y_testTop)"
   ]
  },
  {
   "cell_type": "markdown",
   "id": "8feba82d",
   "metadata": {},
   "source": [
    "# Option II"
   ]
  },
  {
   "cell_type": "code",
   "execution_count": null,
   "id": "01eb4a10",
   "metadata": {},
   "outputs": [],
   "source": [
    "modelTop1  , XTop1  , X_testTop1, y_testTop1 = MeachineLearning(df ,label = 'Price',features = [\"Brand\", \"Color\", \"Details\",\"Gender\",\"GlobalRank\",\"Reviews\",\"Type\",\"Upper\",\"Sole\"],IsEncoder=True)\n",
    "DescribeModel(modelTop1 ,X_testTop1, y_testTop1)"
   ]
  }
 ],
 "metadata": {
  "kernelspec": {
   "display_name": "Python 3 (ipykernel)",
   "language": "python",
   "name": "python3"
  },
  "language_info": {
   "codemirror_mode": {
    "name": "ipython",
    "version": 3
   },
   "file_extension": ".py",
   "mimetype": "text/x-python",
   "name": "python",
   "nbconvert_exporter": "python",
   "pygments_lexer": "ipython3",
   "version": "3.9.13"
  }
 },
 "nbformat": 4,
 "nbformat_minor": 5
}
