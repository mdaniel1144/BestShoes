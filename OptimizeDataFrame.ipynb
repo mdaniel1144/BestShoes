{
 "cells": [
  {
   "cell_type": "markdown",
   "id": "1c4a4cfc",
   "metadata": {},
   "source": [
    "# Import"
   ]
  },
  {
   "cell_type": "code",
   "execution_count": 1,
   "id": "76023da6",
   "metadata": {},
   "outputs": [],
   "source": [
    "import pandas as pd\n",
    "import numpy as np\n",
    "import matplotlib as plt\n",
    "from matplotlib import pyplot as plt\n",
    "import seaborn as sns\n",
    "import re"
   ]
  },
  {
   "cell_type": "code",
   "execution_count": 2,
   "id": "93b1de1a",
   "metadata": {},
   "outputs": [],
   "source": [
    "#---->Load DataFrame From CSV\n",
    "def LoadDataFrame(path):\n",
    "    df = pd.read_csv(path)\n",
    "    return df"
   ]
  },
  {
   "cell_type": "code",
   "execution_count": 3,
   "id": "855007eb",
   "metadata": {},
   "outputs": [],
   "source": [
    "def SaveToCsv(df,path):\n",
    "    if not df.empty:\n",
    "        df.to_csv(path)\n",
    "        print(\"\\n-->Sucssesful Save Fix DataFrame\\n\")\n",
    "    else:\n",
    "        print(\"\\n-->Not Succses Save Fix DataFrame\\n\")"
   ]
  },
  {
   "cell_type": "code",
   "execution_count": 4,
   "id": "debab2ce",
   "metadata": {},
   "outputs": [],
   "source": [
    "#--->Print Shape DataFrame\n",
    "def ShapeOfDataFrame(df):\n",
    "    print(\"Shape Of DataFrame:\\nRows:{0} , Cols:{1}\\n\".format(df.shape[0], df.shape[1]))"
   ]
  },
  {
   "cell_type": "markdown",
   "id": "96c44edd",
   "metadata": {},
   "source": [
    "# Information Of Dataframe"
   ]
  },
  {
   "cell_type": "code",
   "execution_count": 5,
   "id": "546d6207",
   "metadata": {},
   "outputs": [
    {
     "name": "stdout",
     "output_type": "stream",
     "text": [
      "Shape Of DataFrame:\n",
      "Rows:8930 , Cols:26\n",
      "\n",
      "<class 'pandas.core.frame.DataFrame'>\n",
      "RangeIndex: 8930 entries, 0 to 8929\n",
      "Data columns (total 26 columns):\n",
      " #   Column                                  Non-Null Count  Dtype  \n",
      "---  ------                                  --------------  -----  \n",
      " 0   ProductKey                              8930 non-null   int64  \n",
      " 1   Name                                    8924 non-null   object \n",
      " 2   NumberCatalog                           8930 non-null   int64  \n",
      " 3   Gender                                  8930 non-null   object \n",
      " 4   Brand                                   8840 non-null   object \n",
      " 5   Price                                   8912 non-null   object \n",
      " 6   Color                                   8906 non-null   object \n",
      " 7   Details                                 8919 non-null   object \n",
      " 8   Type                                    8930 non-null   object \n",
      " 9   MaterialSoleRubber                      8930 non-null   int64  \n",
      " 10  MaterialSolePolyester                   8930 non-null   int64  \n",
      " 11  MaterialSoleTextile                     8930 non-null   int64  \n",
      " 12  MaterialSoleThermoplasticPolyurethane   8930 non-null   int64  \n",
      " 13  MaterialSoleLeather                     8930 non-null   int64  \n",
      " 14  MaterialSoleOther                       8930 non-null   int64  \n",
      " 15  MaterialUpperRubber                     8930 non-null   int64  \n",
      " 16  MaterialUpperPolyester                  8930 non-null   int64  \n",
      " 17  MaterialUpperTextile                    8930 non-null   int64  \n",
      " 18  MaterialUpperThermoplasticPolyurethane  8930 non-null   int64  \n",
      " 19  MaterialUpperLeather                    8930 non-null   int64  \n",
      " 20  MaterialUpperOther                      8930 non-null   int64  \n",
      " 21  GlobalRank                              8930 non-null   float64\n",
      " 22  Reviews                                 8930 non-null   object \n",
      " 23  RankSize                                8930 non-null   float64\n",
      " 24  RankComfort                             8930 non-null   float64\n",
      " 25  RankQuality                             8930 non-null   float64\n",
      "dtypes: float64(4), int64(14), object(8)\n",
      "memory usage: 1.8+ MB\n"
     ]
    }
   ],
   "source": [
    "path = \"./CSV_Document/AsosData.csv\"\n",
    "df = LoadDataFrame(path)\n",
    "\n",
    "#----->Print Sum info About The DataFrame\n",
    "ShapeOfDataFrame(df)\n",
    "df.info()"
   ]
  },
  {
   "cell_type": "code",
   "execution_count": 6,
   "id": "2b60dfdc",
   "metadata": {},
   "outputs": [
    {
     "data": {
      "text/html": [
       "<div>\n",
       "<style scoped>\n",
       "    .dataframe tbody tr th:only-of-type {\n",
       "        vertical-align: middle;\n",
       "    }\n",
       "\n",
       "    .dataframe tbody tr th {\n",
       "        vertical-align: top;\n",
       "    }\n",
       "\n",
       "    .dataframe thead th {\n",
       "        text-align: right;\n",
       "    }\n",
       "</style>\n",
       "<table border=\"1\" class=\"dataframe\">\n",
       "  <thead>\n",
       "    <tr style=\"text-align: right;\">\n",
       "      <th></th>\n",
       "      <th>Gender</th>\n",
       "      <th>Brand</th>\n",
       "      <th>Type</th>\n",
       "      <th>Color</th>\n",
       "    </tr>\n",
       "  </thead>\n",
       "  <tbody>\n",
       "    <tr>\n",
       "      <th>count</th>\n",
       "      <td>8930</td>\n",
       "      <td>8840</td>\n",
       "      <td>8930</td>\n",
       "      <td>8906</td>\n",
       "    </tr>\n",
       "    <tr>\n",
       "      <th>unique</th>\n",
       "      <td>2</td>\n",
       "      <td>117</td>\n",
       "      <td>25</td>\n",
       "      <td>708</td>\n",
       "    </tr>\n",
       "    <tr>\n",
       "      <th>top</th>\n",
       "      <td>Women</td>\n",
       "      <td>ASOS DESIGN</td>\n",
       "      <td>Shoes</td>\n",
       "      <td>BLACK</td>\n",
       "    </tr>\n",
       "    <tr>\n",
       "      <th>freq</th>\n",
       "      <td>5561</td>\n",
       "      <td>2045</td>\n",
       "      <td>3085</td>\n",
       "      <td>1552</td>\n",
       "    </tr>\n",
       "  </tbody>\n",
       "</table>\n",
       "</div>"
      ],
      "text/plain": [
       "       Gender        Brand   Type  Color\n",
       "count    8930         8840   8930   8906\n",
       "unique      2          117     25    708\n",
       "top     Women  ASOS DESIGN  Shoes  BLACK\n",
       "freq     5561         2045   3085   1552"
      ]
     },
     "execution_count": 6,
     "metadata": {},
     "output_type": "execute_result"
    }
   ],
   "source": [
    "#--->Describe Coloums\n",
    "df[[\"Gender\",\"Brand\",\"Type\",\"Color\"]].describe(include=\"all\")"
   ]
  },
  {
   "cell_type": "markdown",
   "id": "964a6ea6",
   "metadata": {},
   "source": [
    "# Optimaize DataFrame"
   ]
  },
  {
   "cell_type": "code",
   "execution_count": 7,
   "id": "f2a8922f",
   "metadata": {},
   "outputs": [],
   "source": [
    "#---->Clean Missing Elements\n",
    "def CleanMissingElements(df):\n",
    "    print(\"--->Delete {0} Row With NaN Values in DataFrame\".format(df.isnull().sum().sum()))\n",
    "    df.dropna(how=\"any\", axis=0 ,inplace= True)     #---<Delete row if some elemnts is NAN"
   ]
  },
  {
   "cell_type": "code",
   "execution_count": 8,
   "id": "a27ccd69",
   "metadata": {},
   "outputs": [],
   "source": [
    "#--->Delete row that Have the Same Code\n",
    "def RemoveDuplicate(df):\n",
    "    rows = len(df.index)\n",
    "    df.drop_duplicates(subset=[\"ProductKey\"], keep=\"first\", inplace = True)\n",
    "    print(\"--->There was {0} duplicates That Removed\".format(rows-df.shape[0]))\n",
    "    df.reset_index(inplace=True)"
   ]
  },
  {
   "cell_type": "code",
   "execution_count": 9,
   "id": "c11b41b1",
   "metadata": {},
   "outputs": [],
   "source": [
    "#Fix string to LowerCase and convert Object Column to 'category'\n",
    "def FixValueColoums(df , WithNotGlobalRank):\n",
    "    #ImproveValues\n",
    "    for x in df.index:\n",
    "        if isinstance(df.loc[x,\"Details\"],str):\n",
    "            df.loc[x,\"Details\"] = df.loc[x,\"Details\"].count(\",\")+1\n",
    "        if isinstance(df.loc[x,\"Reviews\"], str): \n",
    "            df.loc[x,\"Reviews\"] = re.findall(r\"\\d+\",df.loc[x,\"Reviews\"])[0]\n",
    "        df.loc[x,\"Color\"] = str(df.loc[x,\"Color\"]).lower()\n",
    "        df.loc[x,\"Brand\"] = str(df.loc[x,\"Brand\"]).lower()\n",
    "        df.loc[x,\"Type\"] =str(df.loc[x,\"Type\"]).lower()\n",
    "        if df.loc[x,\"Name\"].find(\" in\")>=0:\n",
    "            df.loc[x,\"Name\"] = df.loc[x,\"Name\"][:df.loc[x,\"Name\"].find(\" in\")]\n",
    "        num =\"\"\n",
    "        for char in str(df.loc[x,\"Price\"]):\n",
    "            if char.isdigit() or char =='.':\n",
    "                num+=char\n",
    "        df.loc[x,\"Price\"] = num\n",
    "    \n",
    "    #Reducing Duplication Values by Pattern in String Object\n",
    "    category = df.Type.unique()\n",
    "    for x in category:\n",
    "        for index in df.index:\n",
    "             if df.loc[index,\"Type\"].find(x) >= 0:\n",
    "                    df.loc[index,\"Type\"] = x\n",
    "    category = df.Brand.unique()\n",
    "    for x in category:\n",
    "        for index in df.index:\n",
    "             if df.loc[index,\"Brand\"].find(x) >= 0:\n",
    "                    df.loc[index,\"Brand\"] = x\n",
    "    \n",
    "    #Convert Coloums To Different Type\n",
    "    df[\"Details\"] = pd.to_numeric(df[\"Details\"],errors=\"raise\")\n",
    "    df[\"Reviews\"] = pd.to_numeric(df[\"Reviews\"],errors=\"raise\")\n",
    "    df[\"Price\"] = pd.to_numeric(df[\"Price\"],errors=\"raise\")\n",
    "    \n",
    "    #Delete element with '0' value\n",
    "    if WithNotGlobalRank:\n",
    "        df = df[df[\"GlobalRank\"]>0]\n",
    "    df = df[df['Price'] > 0]\n",
    "    #Convert Coloums To Different Type\n",
    "    df = df.astype({'Gender':'category' , 'Brand':'category' , 'Type':'category' , 'Color':'category'})\n",
    "    df[\"GlobalRank\"] = pd.cut(df[\"GlobalRank\"] ,bins=5 ,labels =[1 , 2 , 3 , 4 , 5]) \n",
    "    return df"
   ]
  },
  {
   "cell_type": "code",
   "execution_count": 10,
   "id": "e5b716ef",
   "metadata": {},
   "outputs": [
    {
     "name": "stdout",
     "output_type": "stream",
     "text": [
      "--->Delete 149 Row With NaN Values in DataFrame\n",
      "--->There was 4395 duplicates That Removed\n",
      "\n",
      "-->Sucssesful Save Fix DataFrame\n",
      "\n",
      "<class 'pandas.core.frame.DataFrame'>\n",
      "Int64Index: 1819 entries, 0 to 4392\n",
      "Data columns (total 27 columns):\n",
      " #   Column                                  Non-Null Count  Dtype   \n",
      "---  ------                                  --------------  -----   \n",
      " 0   index                                   1819 non-null   int64   \n",
      " 1   ProductKey                              1819 non-null   int64   \n",
      " 2   Name                                    1819 non-null   object  \n",
      " 3   NumberCatalog                           1819 non-null   int64   \n",
      " 4   Gender                                  1819 non-null   category\n",
      " 5   Brand                                   1819 non-null   category\n",
      " 6   Price                                   1819 non-null   float64 \n",
      " 7   Color                                   1819 non-null   category\n",
      " 8   Details                                 1819 non-null   int64   \n",
      " 9   Type                                    1819 non-null   category\n",
      " 10  MaterialSoleRubber                      1819 non-null   int64   \n",
      " 11  MaterialSolePolyester                   1819 non-null   int64   \n",
      " 12  MaterialSoleTextile                     1819 non-null   int64   \n",
      " 13  MaterialSoleThermoplasticPolyurethane   1819 non-null   int64   \n",
      " 14  MaterialSoleLeather                     1819 non-null   int64   \n",
      " 15  MaterialSoleOther                       1819 non-null   int64   \n",
      " 16  MaterialUpperRubber                     1819 non-null   int64   \n",
      " 17  MaterialUpperPolyester                  1819 non-null   int64   \n",
      " 18  MaterialUpperTextile                    1819 non-null   int64   \n",
      " 19  MaterialUpperThermoplasticPolyurethane  1819 non-null   int64   \n",
      " 20  MaterialUpperLeather                    1819 non-null   int64   \n",
      " 21  MaterialUpperOther                      1819 non-null   int64   \n",
      " 22  GlobalRank                              1819 non-null   category\n",
      " 23  Reviews                                 1819 non-null   int64   \n",
      " 24  RankSize                                1819 non-null   float64 \n",
      " 25  RankComfort                             1819 non-null   float64 \n",
      " 26  RankQuality                             1819 non-null   float64 \n",
      "dtypes: category(5), float64(4), int64(17), object(1)\n",
      "memory usage: 351.6+ KB\n"
     ]
    }
   ],
   "source": [
    "Data = {'ProductKey': [] ,'Name':[] ,'NumberCatalog':[] ,\"Gender\":[] ,'Brand': [] , 'Price' : [] ,'Color' : [] , 'Details': []  , 'Type' : [] , 'MaterialSoleRubber' : [] ,'MaterialSolePolyester' : [], 'MaterialSoleTextile' : [] ,\"MaterialSoleThermoplasticPolyurethane\":[] , \"MaterialSoleOther\": [], 'MaterialUpperRubber' : [] ,'MaterialUpperPolyester' : [], 'MaterialUpperTextile' : [] ,\"MaterialUpperThermoplasticPolyurethane\": [], 'MaterialUpperOther':[] , 'GlobalRank' : [] , \"Reviews\":[] , \"RankSize\":[] ,\"RankComfort\":[],\"RankQuality\":[] }\n",
    "path = \"./CSV_Document/AsosDataOptimize/AsosDataFix.csv\"\n",
    "\n",
    "#Optimize The DataFrame\n",
    "CleanMissingElements(df)\n",
    "RemoveDuplicate(df)\n",
    "df = FixValueColoums(df , True)\n",
    "dfGlobalRank =  FixValueColoums(df , False)\n",
    "\n",
    "#Save the Fix DataFrame\n",
    "SaveToCsv(df,path)\n",
    "df.info()"
   ]
  },
  {
   "cell_type": "markdown",
   "id": "107dc122",
   "metadata": {},
   "source": [
    "# Fix Outliers"
   ]
  },
  {
   "cell_type": "code",
   "execution_count": 11,
   "id": "9b3e907f",
   "metadata": {},
   "outputs": [],
   "source": [
    "#--->Fix with the Outliers of Price Columns\n",
    "def FixOutliers(df):\n",
    "    q25 = df[\"Price\"].quantile(0.25)\n",
    "    q75 = df[\"Price\"].quantile(0.75)\n",
    "\n",
    "    # Calculate the IQR\n",
    "    iqr = q75 - q25\n",
    "    # Identify values that are more than 1.5 times the IQR below the 25th percentile or above the 75th percentile\n",
    "    outliers = df[(df[\"Price\"] > q25 - 1.5*iqr) & (df[\"Price\"] < q75 + 1.5*iqr)]\n",
    "    return outliers"
   ]
  },
  {
   "cell_type": "code",
   "execution_count": 12,
   "id": "cf78cafc",
   "metadata": {},
   "outputs": [
    {
     "data": {
      "text/plain": [
       "[Text(0.5, 1.0, 'Before The Fix Outliers')]"
      ]
     },
     "execution_count": 12,
     "metadata": {},
     "output_type": "execute_result"
    },
    {
     "data": {
      "image/png": "[encoded data removed]",
      "text/plain": [
       "<Figure size 640x480 with 1 Axes>"
      ]
     },
     "metadata": {},
     "output_type": "display_data"
    }
   ],
   "source": [
    "#--->Illustration the Outliers of Price\n",
    "sns.boxplot(data=df , x=\"Price\" , y=\"Gender\").set(title=\"Before The Fix Outliers\")"
   ]
  },
  {
   "cell_type": "code",
   "execution_count": 13,
   "id": "c41d8dc0",
   "metadata": {},
   "outputs": [
    {
     "name": "stdout",
     "output_type": "stream",
     "text": [
      "\n",
      "-->Sucssesful Save Fix DataFrame\n",
      "\n",
      "--->Outliers Fixed\n"
     ]
    },
    {
     "data": {
      "text/plain": [
       "[Text(0.5, 1.0, 'After The Fix Outliers')]"
      ]
     },
     "execution_count": 13,
     "metadata": {},
     "output_type": "execute_result"
    },
    {
     "data": {
      "image/png": "[encoded data removed]",
      "text/plain": [
       "<Figure size 640x480 with 1 Axes>"
      ]
     },
     "metadata": {},
     "output_type": "display_data"
    }
   ],
   "source": [
    "df = FixOutliers(df)\n",
    "SaveToCsv(df,path)\n",
    "print(\"--->Outliers Fixed\")\n",
    "sns.boxplot(data=df , x=\"Price\" , y=\"Gender\").set(title=\"After The Fix Outliers\")"
   ]
  },
  {
   "cell_type": "markdown",
   "id": "2bbcf054",
   "metadata": {},
   "source": [
    "# Make Category Material"
   ]
  },
  {
   "cell_type": "code",
   "execution_count": 14,
   "id": "e4ee29e3",
   "metadata": {},
   "outputs": [],
   "source": [
    "#convert Object Column to 'category'\n",
    "def MakeCategoryMaterialUpper(df):\n",
    "    Upper = []\n",
    "    Sole = []                \n",
    "    for x in range(len(df.index)):\n",
    "        sole_text = \"\" \n",
    "        if df.iloc[x][\"MaterialSoleRubber\"] > 0:\n",
    "            sole_text += \"Rubber \"\n",
    "        if df.iloc[x][\"MaterialSolePolyester\"] > 0:\n",
    "            sole_text += \"Polyester \"\n",
    "        if df.iloc[x][\"MaterialSoleTextile\"] > 0:\n",
    "            sole_text += \"Textile \"\n",
    "        if df.iloc[x][\"MaterialSoleThermoplasticPolyurethane\"]> 0:\n",
    "            sole_text += \"ThermoplasticPolyurethane \"\n",
    "        if df.iloc[x][\"MaterialSoleLeather\"] > 0:\n",
    "            sole_text += \"Leather\"\n",
    "        if df.iloc[x][\"MaterialSoleOther\"] == 100:\n",
    "            sole_text = \"Other\"\n",
    "        else:\n",
    "            sole_text += \"Other\"\n",
    "        Sole.append(sole_text)\n",
    "    for x in range(len(df.index)):\n",
    "        upper_text = \"\"\n",
    "        if df.iloc[x][\"MaterialUpperRubber\"] > 0:\n",
    "            upper_text += \"Rubber \"\n",
    "        if df.iloc[x][\"MaterialUpperPolyester\"] > 0:\n",
    "            upper_text += \"Polyester \"\n",
    "        if df.iloc[x][\"MaterialUpperTextile\"] > 0:\n",
    "            upper_text += \"Textile \"\n",
    "        if df.iloc[x][\"MaterialUpperThermoplasticPolyurethane\"]> 0:\n",
    "            upper_text += \"ThermoplasticPolyurethane \"\n",
    "        if df.iloc[x][\"MaterialUpperLeather\"] > 0:\n",
    "            upper_text += \"Leather\"\n",
    "        if df.iloc[x][\"MaterialUpperOther\"] == 100:\n",
    "            upper_text = \"Other\"\n",
    "        else:\n",
    "                upper_text += \"Other\"\n",
    "        Upper.append(upper_text)\n",
    "    \n",
    "    df1 = df[[\"ProductKey\",\"Name\",\"NumberCatalog\",\"Gender\",\"Brand\",\"Price\",\"Color\",\"Details\",\"Type\",\"GlobalRank\",\"Reviews\", \"RankSize\",\"RankComfort\",\"RankQuality\"]]\n",
    "    df1.insert(8, \"Sole\", Sole, True)\n",
    "    df1.insert(9, \"Upper\", Upper, True)\n",
    "    df1 = df1.astype({'Upper':'category' , 'Sole':'category'})\n",
    "    return df1"
   ]
  },
  {
   "cell_type": "code",
   "execution_count": 15,
   "id": "8df68b4e",
   "metadata": {},
   "outputs": [
    {
     "name": "stdout",
     "output_type": "stream",
     "text": [
      "\n",
      "-->Sucssesful Save Fix DataFrame\n",
      "\n"
     ]
    }
   ],
   "source": [
    "path = \"./CSV_Document/AsosDataOptimize/AsosDataOptimize.csv\"\n",
    "\n",
    "#Save the Fix DataFrame\n",
    "df1 = MakeCategoryMaterialUpper(df)\n",
    "df1.reset_index(inplace=True)\n",
    "df1.drop(columns=\"index\",inplace=True)\n",
    "SaveToCsv(df1,path)"
   ]
  },
  {
   "cell_type": "code",
   "execution_count": 16,
   "id": "588df12f",
   "metadata": {},
   "outputs": [
    {
     "name": "stdout",
     "output_type": "stream",
     "text": [
      "<class 'pandas.core.frame.DataFrame'>\n",
      "RangeIndex: 1798 entries, 0 to 1797\n",
      "Data columns (total 16 columns):\n",
      " #   Column         Non-Null Count  Dtype   \n",
      "---  ------         --------------  -----   \n",
      " 0   ProductKey     1798 non-null   int64   \n",
      " 1   Name           1798 non-null   object  \n",
      " 2   NumberCatalog  1798 non-null   int64   \n",
      " 3   Gender         1798 non-null   category\n",
      " 4   Brand          1798 non-null   category\n",
      " 5   Price          1798 non-null   float64 \n",
      " 6   Color          1798 non-null   category\n",
      " 7   Details        1798 non-null   int64   \n",
      " 8   Sole           1798 non-null   category\n",
      " 9   Upper          1798 non-null   category\n",
      " 10  Type           1798 non-null   category\n",
      " 11  GlobalRank     1798 non-null   category\n",
      " 12  Reviews        1798 non-null   int64   \n",
      " 13  RankSize       1798 non-null   float64 \n",
      " 14  RankComfort    1798 non-null   float64 \n",
      " 15  RankQuality    1798 non-null   float64 \n",
      "dtypes: category(7), float64(4), int64(4), object(1)\n",
      "memory usage: 155.4+ KB\n"
     ]
    }
   ],
   "source": [
    "df1.info()"
   ]
  },
  {
   "cell_type": "code",
   "execution_count": null,
   "id": "10efa5d3",
   "metadata": {},
   "outputs": [],
   "source": []
  }
 ],
 "metadata": {
  "kernelspec": {
   "display_name": "Python 3 (ipykernel)",
   "language": "python",
   "name": "python3"
  },
  "language_info": {
   "codemirror_mode": {
    "name": "ipython",
    "version": 3
   },
   "file_extension": ".py",
   "mimetype": "text/x-python",
   "name": "python",
   "nbconvert_exporter": "python",
   "pygments_lexer": "ipython3",
   "version": "3.9.13"
  }
 },
 "nbformat": 4,
 "nbformat_minor": 5
}
